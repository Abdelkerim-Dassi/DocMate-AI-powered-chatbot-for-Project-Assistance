{
 "cells": [
  {
   "cell_type": "code",
   "execution_count": 1,
   "metadata": {},
   "outputs": [],
   "source": [
    "import os\n",
    "import dotenv\n"
   ]
  },
  {
   "cell_type": "code",
   "execution_count": 2,
   "metadata": {},
   "outputs": [],
   "source": [
    "token=\"\""
   ]
  },
  {
   "cell_type": "code",
   "execution_count": 2,
   "metadata": {},
   "outputs": [],
   "source": [
    "import os \n",
    "from atlassian import Confluence\n",
    "\n",
    "os.environ['CONFLUENCE_API_TOKEN'] = token\n",
    "api_token = os.getenv(\"CONFLUENCE_API_TOKEN\")\n",
    "confluence = Confluence(url='',token=api_token,cloud=True)"
   ]
  },
  {
   "cell_type": "code",
   "execution_count": 4,
   "metadata": {},
   "outputs": [],
   "source": [
    "confluence.add_user(\"xx@gmail.com\",\"karimxx\",\"kii\",\"1234\")"
   ]
  },
  {
   "cell_type": "code",
   "execution_count": 5,
   "metadata": {},
   "outputs": [
    {
     "data": {
      "text/plain": [
       "<atlassian.confluence.Confluence at 0x1ee7dd08760>"
      ]
     },
     "execution_count": 5,
     "metadata": {},
     "output_type": "execute_result"
    }
   ],
   "source": [
    "confluence"
   ]
  },
  {
   "cell_type": "code",
   "execution_count": 1,
   "metadata": {},
   "outputs": [],
   "source": [
    "from llama_index.readers.confluence import ConfluenceReader\n",
    "import os \n",
    "os.environ['CONFLUENCE_USERNAME'] = \"@gmail.com\"\n",
    "os.environ['CONFLUENCE_PASSWORD'] = \"\"\n",
    "\n",
    "reader=ConfluenceReader(base_url=\"\")"
   ]
  },
  {
   "cell_type": "code",
   "execution_count": 17,
   "metadata": {},
   "outputs": [
    {
     "data": {
      "text/plain": [
       "[Document(id_='98394', embedding=None, metadata={'title': 'Getting started in Confluence', 'page_id': '98394', 'status': 'current', 'url': 'https://abdelkerim-doc-assistant.atlassian.net/wiki/spaces/~712020a5e8623ecd6e48b6b43e65f918ce73b6/pages/98394/Getting+started+in+Confluence'}, excluded_embed_metadata_keys=[], excluded_llm_metadata_keys=[], relationships={}, text=\"##### **Welcome to Confluence!**\\n\\nYou can use Confluence to create a rich knowledge base or to collaborate with\\nothers using words, videos, images, graphics, charts, and graphs.\\n\\nThis page walks you through some Confluence basics like spaces, pages, and\\nelements that allow you to create and manage impactful content for your teams.\\n\\n**On this page**\\n\\n[ Confluence 101 ] [ Making purposeful content ] [ Collaborating with\\nteammates ] [ Organizing your content ] [ What's next? ]\\n\\n#  **Confluence 101**\\n\\nhttps://www.youtube.com/embed/kaNPNbAT-as%22\\n\\n## 🗃️ Spaces\\n\\nSpaces are places for individuals, teams, and companies to organize and work\\non ideas, projects, documentation, and announcements. Spaces can be customized\\nand integrated with both Atlassian tools and others. Create as many spaces as\\nyou need to get things done:\\n\\nTEAM SPACES\\n\\n###### Give each team their own space so they can work closely and make\\ninformation easier to find.\\n\\nPROJECT SPACES\\n\\n###### Put all the information related to your project in one place so\\neveryone can work together.\\n\\nPERSONAL SPACES\\n\\n###### Store anything you're working on, keep your to-do lists, and polish\\ncontent before moving it into a shared space.\\n\\n  * **In the main navigation bar, select**`Spaces` **-> **`Create space` **to create a new space.**\\n\\nMore about spaces\\n\\n## 📄 Content\\n\\n **Whiteboards** are your team's place to brainstorm, build connections, and\\nmake ideas come to life.\\n\\n **Pages** are the building blocks of Confluence. Drop ideas into a page, to\\ncollaborate on, refine, and document work.\\n\\n **Blog posts** are individually-authored pieces of content that illustrate a\\nparticular perspective, typically shared broadly--great for documenting case\\nstudies or broad insights.  \\n  \\n---  \\n  \\nTo create a content within a space, select the `+` and choose your content\\ntype. You can also create content using the `Create` button in the main\\nnavigation bar.\\n\\n  * **Press**`c` **to create content at any time.**\\n\\nMore about pages | More about whiteboards\\n\\nVisualize the relationship between spaces and pages\\n\\nBack to top ⤴\\n\\n* * *\\n\\n#  **Making purposeful content**\\n\\n## ✏️ Confluence editor\\n\\nChanges can only be made to page content when in the editor. Changes will save\\nautomatically and be pushed live the next time the page is published.\\n\\n## 🛠️ Templates\\n\\nIf you're not sure where to start when setting up a new space or content, save\\ntime with a template.  \\n  \\n---  \\n  \\n  * **Press**`e` **when on a page to open the editor.**\\n\\nMore about page templates | Browse space templates\\n\\n## 🧰 Elements\\n\\nElements are tools like calendars, note panels, and layouts, designed to help\\nyou make your pages more powerful.  \\n  \\n---  \\n  \\n  * **Press**`/` **to see a list of elements.**\\n\\nMore about elements\\n\\n## 📸 Header images\\n\\nMake your pages more visually impactful with emojis and header images. 🍕\\nEmojis aren't just a fun way to spice up your page--they also show up in\\nsearch, so using them strategically makes it easier to find pages later on.  \\n  \\n---  \\n  \\n  * **Select**`Add status` **at the top of the page, so teammates can see your progress at a glance.**\\n\\nMore about page header images\\n\\nBack to top ⤴\\n\\n* * *\\n\\n#  **Collaborating with teammates**\\n\\n## 🧑\\u200d💻 Real-time editing\\n\\nYou and up to 11 teammates can edit a page together in real time. Changes save\\nand sync automatically so that everyone editing sees the same thing. Start\\nediting together by selecting the **Edit** icon in the header.  \\n  \\n---  \\n  \\n  *  **Press **`Command + Enter` **when in the editor to publish.**\\n\\nMore about collaborative editing\\n\\n## 💬 Mentions and comments\\n\\nComments are a great way to start a conversation about a page or blog post.\\nThey allow you to remark on content, add important information, ask questions,\\nand generally drive collaboration and teamwork.\\n\\n@mention a teammate to bring them into the conversation, and they can reply to\\nand/or like comments.  \\n  \\n---  \\n  \\nLeave comments for your team in different places, depending on the type of\\nfeedback you have:\\n\\n  *  **Inline comment ->**Added to a highlighted section of the page or post you are editing or viewing; good for targeted comments on a specific word or phrase.\\n  *  **Page comment ->**Added below the content of the page or post you are viewing; good for comments that apply to the content as a whole.\\n\\n  *  **Leave an inline comment when viewing a page or in the editor.**\\n\\nMore about comments\\n\\nBack to top ⤴\\n\\n* * *\\n\\n#  **Organizing your content**\\n\\n## 🌳 Content tree\\n\\nThe content tree is where your content is organized within a space. Drag and\\ndrop to reorder or nest content, so you can more effectively share your work\\nwith others.\\n\\n  * **After you publish, select**`[` **to expand or collapse the content tree.**\\n\\nMore about the content tree\\n\\n## 📣 Space overview\\n\\nTo help your teammates find relevant content, curate your space overview with\\nuseful elements like calendars and page statuses, and include information\\nabout what is in your space.\\n\\n  * **Use the** `/info` **panel element to highlight important information in your space overview.**\\n\\nMore about space overview\\n\\n## 🌻 Content types\\n\\n**WHITEBOARD**\\n\\n###### If your content still isn't defined, whiteboards are a quick way to get\\nmessy ideas from many collaborators documented.\\n\\n**BLOG POST**\\n\\n###### If your content that won't change over time, create it as a blog post.\\nThe blog feed for each space displays the most recent posts first.\\n\\n**PAGE**\\n\\n###### If your content may change over time, create it as a page. Pages nest,\\nso you can create categories and subcategories.\\n\\n  * **Press**`k` **for a shareable link to your page or post.**\\n\\nMore about sharing content | More about whiteboards\\n\\n## 📏 Tables\\n\\nTables allow you to organize important information on a page to discuss it\\nwith your team. Present the information the way it makes sense to you--resize\\ncolumns, color cells, rows and columns, and sort the table by clicking the\\ncolumn headers.  \\n  \\n---  \\n  \\n  * **Type**`/table` **to add a table at any time.**\\n\\nMore about tables\\n\\n## 🌱 Drafts\\n\\nConfluence autosaves your content as you work--if you select `Close` in the\\neditor without publishing, you'll create a draft, or an unpublished page you\\ncan get back to at any time.\\n\\nDRAFT **Only you can see your draft, unless you share a link to it.**\\n\\nMore about drafts\\n\\nBack to top ⤴\\n\\n* * *\\n\\n#  **What 's next?**\\n\\n## 🧐 TL;DR\\n\\nThese are the top three actions we think will help you get the most from\\nConfluence.\\n\\n  * Explore a `Space`\\n  * `Create` a page\\n  * `Invite` a teammate\\n\\n## Jira ❤️ Confluence\\n\\nChoose from 70+ templates to help you structure your thinking, improve\\ndocumentation quality, and adopt best practices for agile development.\\n\\nhttps://www.youtube.com/watch?v=ohtDFXNAUns\\n\\nBack to top ⤴\\n\\n\", start_char_idx=None, end_char_idx=None, text_template='{metadata_str}\\n\\n{content}', metadata_template='{key}: {value}', metadata_seperator='\\n'),\n",
       " Document(id_='98395', embedding=None, metadata={'title': 'Overview', 'page_id': '98395', 'status': 'current', 'url': 'https://abdelkerim-doc-assistant.atlassian.net/wiki/spaces/~712020a5e8623ecd6e48b6b43e65f918ce73b6/overview'}, excluded_embed_metadata_keys=[], excluded_llm_metadata_keys=[], relationships={}, text='\\n\\nSay hello to your colleagues who want to know your name, pronouns, role, team\\nand location (or if you\\'re remote).\\n\\n## 📄 Recent pages that I\\'ve worked on\\n\\n## Recent updates\\n\\n  * DocMate - AI Documentation Assistant\\n\\nMay 23, 2024 • contributed by Abdelkerim Dassi\\n\\n  * How-to articles\\n\\nMay 23, 2024 • contributed by Abdelkerim Dassi\\n\\n  * Overview\\n\\nMay 23, 2024 • contributed by Abdelkerim Dassi\\n\\n  * Getting started in Confluence\\n\\nMay 23, 2024 • contributed by Abdelkerim Dassi\\n\\n  * Abdelkerim Dassi\\n\\nMay 23, 2024 • contributed by Abdelkerim Dassi\\n\\n## Blog stream\\n\\nCreate a blog post to share news and announcements with your team and company.\\n\\nCreate blog post\\n\\n## 🖐 Get in touch\\n\\n✉️\\n\\n💼\\n\\n🔗\\n\\n👤\\n\\nEnd with a bang! Some options are: \"I am so grateful to be here at <Insert\\ncompany name> and very excited to get started!\" or \"Looking forward to meeting\\nall of you!\" or \"Can\\'t wait to get to know all of you!\"\\n\\n', start_char_idx=None, end_char_idx=None, text_template='{metadata_str}\\n\\n{content}', metadata_template='{key}: {value}', metadata_seperator='\\n'),\n",
       " Document(id_='196755', embedding=None, metadata={'title': 'DocMate - AI Documentation Assistant', 'page_id': '196755', 'status': 'current', 'url': 'https://abdelkerim-doc-assistant.atlassian.net/wiki/spaces/~712020a5e8623ecd6e48b6b43e65f918ce73b6/pages/196755/DocMate+-+AI+Documentation+Assistant'}, excluded_embed_metadata_keys=[], excluded_llm_metadata_keys=[], relationships={}, text='\\n\\n**Project Name:** DocMate  \\n **Objective:** To develop an AI-driven documentation assistant that helps new\\nteam members quickly familiarize themselves with project technologies and\\ndocumentation.\\n\\n##  Introduction\\n\\nWelcome to the **DocMate** project! This initiative aims to create an\\nintelligent, AI-driven platform designed to assist new project members in\\nunderstanding the technologies, processes, and documentation associated with\\nvarious projects. By leveraging advanced GenAI techniques and a Retrieval-\\nAugmented Generation (RAG) pipeline, DocMate simplifies the onboarding\\nprocess, making it more efficient and effective.\\n\\n##  Project Goals\\n\\n  1.  **Streamlined Onboarding:** Reduce the time and effort required for new team members to get up to speed.\\n\\n  2.  **Enhanced Accessibility:** Provide easy access to project documentation stored in Confluence and JIRA.\\n\\n  3.  **Improved Knowledge Retention:** Ensure consistent and up-to-date information dissemination.\\n\\n##  Key Features\\n\\n  *  **AI-Powered Search:** Utilize state-of-the-art embeddings and large language models (LLMs) to provide accurate and relevant search results.\\n\\n  *  **Document Retrieval:** Efficiently retrieve documents and relevant information from Confluence and JIRA.\\n\\n  *  **Interactive Chatbot:** A user-friendly chatbot interface to assist with queries and guide users through the documentation.\\n\\n  *  **Responsive UI:** An intuitive and responsive user interface for seamless interaction.\\n\\n###  \\nConfluence Page: DocMate - AI Documentation Assistant\\n\\n* * *\\n\\n## Overview\\n\\n **Project Name:** DocMate  \\n **Objective:** To develop an AI-driven documentation assistant that helps new\\nteam members quickly familiarize themselves with project technologies and\\ndocumentation.\\n\\n* * *\\n\\n## Introduction\\n\\nWelcome to the **DocMate** project! This initiative aims to create an\\nintelligent, AI-driven platform designed to assist new project members in\\nunderstanding the technologies, processes, and documentation associated with\\nvarious projects. By leveraging advanced GenAI techniques and a Retrieval-\\nAugmented Generation (RAG) pipeline, DocMate simplifies the onboarding\\nprocess, making it more efficient and effective.\\n\\n* * *\\n\\n## Project Goals\\n\\n  1.  **Streamlined Onboarding:** Reduce the time and effort required for new team members to get up to speed.\\n\\n  2.  **Enhanced Accessibility:** Provide easy access to project documentation stored in Confluence and JIRA.\\n\\n  3.  **Improved Knowledge Retention:** Ensure consistent and up-to-date information dissemination.\\n\\n* * *\\n\\n## Key Features\\n\\n  *  **AI-Powered Search:** Utilize state-of-the-art embeddings and large language models (LLMs) to provide accurate and relevant search results.\\n\\n  *  **Document Retrieval:** Efficiently retrieve documents and relevant information from Confluence and JIRA.\\n\\n  *  **Interactive Chatbot:** A user-friendly chatbot interface to assist with queries and guide users through the documentation.\\n\\n  *  **Responsive UI:** An intuitive and responsive user interface for seamless interaction\\n\\n## Instruction for using DocMate\\n\\n  1.  **Access the Platform:**\\n\\n    * Log in using your company credentials.\\n\\n    * Navigate to the DocMate interface from the main dashboard.\\n\\n  2.  **Using the Chatbot:**\\n\\n    * Open the chatbot from the DocMate interface.\\n\\n    * Enter your query in natural language (e.g., \"What technologies are used in Project X?\").\\n\\n    * The chatbot will retrieve and display the relevant documents and information.\\n\\n  3.  **Searching for Documentation:**\\n\\n    * Use the search bar to type keywords or questions related to the project documentation.\\n\\n    * View the list of retrieved documents and select the ones you need.\\n\\n    * Download or view documents directly from the interface.\\n\\n  4.  **Providing Feedback:**\\n\\n    * Use the feedback option available in the chatbot interface.\\n\\n    * Report any issues or suggest improvements to help us enhance the system.\\n\\n  5.  **Regular Updates:**\\n\\n    * Stay updated with the latest features and improvements by checking the announcements section.\\n\\n    * Attend periodic training sessions to make the most out of DocMate’s capabilities.\\n\\nHighlight important information in a panel like this one. To edit this panel\\'s\\ncolor or style, select one of the options in the menu.\\n\\n  * Page:\\n\\nDocMate - AI Documentation Assistant\\n\\n', start_char_idx=None, end_char_idx=None, text_template='{metadata_str}\\n\\n{content}', metadata_template='{key}: {value}', metadata_seperator='\\n'),\n",
       " Document(id_='196777', embedding=None, metadata={'title': 'How-to articles', 'page_id': '196777', 'status': 'current', 'url': 'https://abdelkerim-doc-assistant.atlassian.net/wiki/spaces/~712020a5e8623ecd6e48b6b43e65f918ce73b6/pages/196777/How-to+articles'}, excluded_embed_metadata_keys=[], excluded_llm_metadata_keys=[], relationships={}, text='\\n\\nAdd how-to article\\n\\n* * *\\n\\nTitle| Creator| Modified  \\n---|---|---  \\nDocMate - AI Documentation Assistant| Abdelkerim Dassi| May 23, 2024\\n\\n', start_char_idx=None, end_char_idx=None, text_template='{metadata_str}\\n\\n{content}', metadata_template='{key}: {value}', metadata_seperator='\\n')]"
      ]
     },
     "execution_count": 17,
     "metadata": {},
     "output_type": "execute_result"
    }
   ],
   "source": [
    "reader.load_data(space_key=\"~\")"
   ]
  },
  {
   "cell_type": "code",
   "execution_count": 19,
   "metadata": {},
   "outputs": [],
   "source": [
    "from atlassian import Confluence\n",
    "confluence = Confluence(\n",
    "    url=\"\",\n",
    "    username=\"CONFLUENCE_USERNAME\",\n",
    "    password=\"\",\n",
    "    cloud=True)"
   ]
  },
  {
   "cell_type": "code",
   "execution_count": 23,
   "metadata": {},
   "outputs": [],
   "source": [
    "pages = reader.load_data(space_key=\"~\")"
   ]
  },
  {
   "cell_type": "code",
   "execution_count": 25,
   "metadata": {},
   "outputs": [
    {
     "data": {
      "text/plain": [
       "list"
      ]
     },
     "execution_count": 25,
     "metadata": {},
     "output_type": "execute_result"
    }
   ],
   "source": [
    "type(pages)"
   ]
  },
  {
   "cell_type": "code",
   "execution_count": 28,
   "metadata": {},
   "outputs": [
    {
     "data": {
      "text/plain": [
       "llama_index.core.schema.Document"
      ]
     },
     "execution_count": 28,
     "metadata": {},
     "output_type": "execute_result"
    }
   ],
   "source": [
    "type(pages[0])"
   ]
  }
 ],
 "metadata": {
  "kernelspec": {
   "display_name": "chatbot_venv",
   "language": "python",
   "name": "python3"
  },
  "language_info": {
   "codemirror_mode": {
    "name": "ipython",
    "version": 3
   },
   "file_extension": ".py",
   "mimetype": "text/x-python",
   "name": "python",
   "nbconvert_exporter": "python",
   "pygments_lexer": "ipython3",
   "version": "3.10.0"
  }
 },
 "nbformat": 4,
 "nbformat_minor": 2
}
