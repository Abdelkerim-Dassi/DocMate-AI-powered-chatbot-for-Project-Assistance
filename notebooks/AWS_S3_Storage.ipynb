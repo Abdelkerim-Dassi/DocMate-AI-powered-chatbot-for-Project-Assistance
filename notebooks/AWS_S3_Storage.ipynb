{
 "cells": [
  {
   "cell_type": "code",
   "execution_count": 1,
   "metadata": {},
   "outputs": [
    {
     "name": "stdout",
     "output_type": "stream",
     "text": [
      "2024-10-17 21:36:28 - Chainlit data layer initialized\n",
      "2024-10-17 21:36:28 - Loaded .env file\n"
     ]
    }
   ],
   "source": [
    "from chainlit.data.storage_clients import S3StorageClient \n",
    "import chainlit.data as cl_data\n",
    "from chainlit.data.sql_alchemy import SQLAlchemyDataLayer\n",
    "import boto3\n"
   ]
  },
  {
   "cell_type": "code",
   "execution_count": 2,
   "metadata": {},
   "outputs": [
    {
     "name": "stdout",
     "output_type": "stream",
     "text": [
      "2024-10-17 21:36:30 - Found credentials in environment variables.\n"
     ]
    }
   ],
   "source": [
    "s3 = boto3.resource('s3')"
   ]
  },
  {
   "cell_type": "code",
   "execution_count": 3,
   "metadata": {},
   "outputs": [
    {
     "name": "stdout",
     "output_type": "stream",
     "text": [
      "anonymizer-dev\n",
      "anonymizer-suresh\n",
      "cdk-hnb659fds-assets-656875235377-eu-central-1\n",
      "cdk-hnb659fds-assets-656875235377-eu-west-1\n",
      "cdks3stack-myfirstbucketb8884501-8pu0ngkswp8j\n",
      "dataengpipeline\n",
      "dont-delete-kubeflow\n",
      "end-of-studies-2023\n",
      "karim-chatbot-history\n",
      "kubeflow-experiments1\n",
      "kubeflowpoc\n",
      "pastchat\n",
      "rania-fradi-bucket\n",
      "sagemaker-eu-central-1-656875235377\n",
      "sagemaker-eu-west-1-656875235377\n",
      "sagemaker-studio-656875235377-rrkb9poroza\n",
      "smartops-experiments\n",
      "smartops.dev-dev-terraform-state\n",
      "testh11\n"
     ]
    }
   ],
   "source": [
    "for bucket in s3.buckets.all():\n",
    "    print(bucket.name)"
   ]
  },
  {
   "cell_type": "code",
   "execution_count": 4,
   "metadata": {},
   "outputs": [
    {
     "name": "stdout",
     "output_type": "stream",
     "text": [
      "GlobalLogo_NTTDATA_Color.png\n",
      "chat_history/admin/2024-10-17_21-28-44.json\n",
      "chat_history/admin/2024-10-17_21-34-29.json\n"
     ]
    }
   ],
   "source": [
    "bucket = s3.Bucket('karim-chatbot-history')\n",
    "for obj in bucket.objects.all():\n",
    "    print(obj.key)"
   ]
  },
  {
   "cell_type": "code",
   "execution_count": 8,
   "metadata": {},
   "outputs": [
    {
     "name": "stdout",
     "output_type": "stream",
     "text": [
      "[\n",
      "    {\n",
      "        \"role\": \"user\",\n",
      "        \"content\": \"XXX\"\n",
      "    },\n",
      "    {\n",
      "        \"role\": \"assistant\",\n",
      "        \"content\": \" User Question: How can I access and use DocMate, the AI documentation assistant?\\n\\nAnswer: To access and use DocMate, follow these steps:\\n\\n1. Log in using your company credentials.\\n2. Navigate to the DocMate interface from the main dashboard.\\n\\nOnce you have accessed the platform, here's how to use it:\\n\\n3. Open the chatbot from the DocMate interface.\\n4. Enter your query in natural language (e.g., \\\"What technologies are used in Project X?\\\").\\n5. The chatbot will retrieve and display the relevant documents and information.\\n\\nAlternatively, you can also:\\n\\n6. Use the search bar to type keywords or questions related to the project documentation.\\n7. View the list of retrieved documents and select the ones you need.\\n8. Download or view documents directly from the interface.\\n\\nIf you encounter any issues or have suggestions for improvements, use the feedback option available in the chatbot interface. Stay updated with the latest features and improvements by checking the announcements section and attending periodic training sessions to make the most out of DocMate\\u2019s capabilities.\"\n",
      "    }\n",
      "]\n"
     ]
    },
    {
     "data": {
      "text/plain": [
       "[{'role': 'user', 'content': 'XXX'},\n",
       " {'role': 'assistant',\n",
       "  'content': ' User Question: How can I access and use DocMate, the AI documentation assistant?\\n\\nAnswer: To access and use DocMate, follow these steps:\\n\\n1. Log in using your company credentials.\\n2. Navigate to the DocMate interface from the main dashboard.\\n\\nOnce you have accessed the platform, here\\'s how to use it:\\n\\n3. Open the chatbot from the DocMate interface.\\n4. Enter your query in natural language (e.g., \"What technologies are used in Project X?\").\\n5. The chatbot will retrieve and display the relevant documents and information.\\n\\nAlternatively, you can also:\\n\\n6. Use the search bar to type keywords or questions related to the project documentation.\\n7. View the list of retrieved documents and select the ones you need.\\n8. Download or view documents directly from the interface.\\n\\nIf you encounter any issues or have suggestions for improvements, use the feedback option available in the chatbot interface. Stay updated with the latest features and improvements by checking the announcements section and attending periodic training sessions to make the most out of DocMate’s capabilities.'}]"
      ]
     },
     "execution_count": 8,
     "metadata": {},
     "output_type": "execute_result"
    }
   ],
   "source": [
    "import json\n",
    "import boto3\n",
    "\n",
    "# Initialize S3 client\n",
    "s3_client = boto3.client('s3')\n",
    "\n",
    "def view_json_file_from_s3(s3_key):\n",
    "    s3_bucket = \"karim-chatbot-history\"  # Your S3 bucket name\n",
    "\n",
    "    try:\n",
    "        # Fetch the file content from S3\n",
    "        response = s3_client.get_object(Bucket=s3_bucket, Key=s3_key)\n",
    "        file_content = response['Body'].read().decode('utf-8')\n",
    "\n",
    "        # Load the JSON content\n",
    "        json_content = json.loads(file_content)\n",
    "\n",
    "        # Print the content of the JSON file\n",
    "        print(json.dumps(json_content, indent=4))\n",
    "        \n",
    "        return json_content  # Optionally return the content if needed elsewhere\n",
    "\n",
    "    except Exception as e:\n",
    "        print(f\"Error fetching or reading the file: {e}\")\n",
    "        return None\n",
    "\n",
    "# Example usage\n",
    "s3_key = 'chat_history/admin/2024-10-17_21-34-29.json'  # Provide the S3 key of the file you want to view\n",
    "view_json_file_from_s3(s3_key)\n"
   ]
  },
  {
   "cell_type": "code",
   "execution_count": 6,
   "metadata": {},
   "outputs": [
    {
     "name": "stdout",
     "output_type": "stream",
     "text": [
      "2024-10-17 21:39:10 - S3StorageClient initialized\n"
     ]
    }
   ],
   "source": [
    "s3_storage = S3StorageClient(bucket=\"karim-chatbot-history\")\n"
   ]
  }
 ],
 "metadata": {
  "kernelspec": {
   "display_name": "chatbot_venv",
   "language": "python",
   "name": "python3"
  },
  "language_info": {
   "codemirror_mode": {
    "name": "ipython",
    "version": 3
   },
   "file_extension": ".py",
   "mimetype": "text/x-python",
   "name": "python",
   "nbconvert_exporter": "python",
   "pygments_lexer": "ipython3",
   "version": "3.10.0"
  }
 },
 "nbformat": 4,
 "nbformat_minor": 2
}
