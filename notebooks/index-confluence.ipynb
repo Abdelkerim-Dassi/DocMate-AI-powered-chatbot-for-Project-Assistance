{
 "cells": [
  {
   "cell_type": "code",
   "execution_count": 1,
   "metadata": {},
   "outputs": [
    {
     "name": "stderr",
     "output_type": "stream",
     "text": [
      "c:\\Users\\abdel\\Desktop\\Chatbot\\2024_abdelakrim_dassi\\chatbot_venv\\lib\\site-packages\\weaviate\\warnings.py:121: DeprecationWarning: Dep005: You are using weaviate-client version 3.26.2. The latest version is 4.9.3.\n",
      "            Please consider upgrading to the latest version. See https://weaviate.io/developers/weaviate/client-libraries/python for details.\n",
      "  warnings.warn(\n"
     ]
    }
   ],
   "source": [
    "\n",
    "from llama_index.core import  Document, VectorStoreIndex\n",
    "from llama_index.core import Settings\n",
    "from llama_index.readers.confluence import ConfluenceReader\n",
    "from llama_index.llms.ollama import Ollama\n",
    "from llama_index.embeddings.sagemaker_endpoint import SageMakerEmbedding\n",
    "from llama_index.vector_stores.weaviate import WeaviateVectorStore\n",
    "from weaviate import Client\n",
    "import os\n",
    "import dotenv\n",
    "from pydantic import BaseModel\n",
    "from utils.indexing import process_documents\n"
   ]
  },
  {
   "cell_type": "code",
   "execution_count": 2,
   "metadata": {},
   "outputs": [
    {
     "data": {
      "text/plain": [
       "True"
      ]
     },
     "execution_count": 2,
     "metadata": {},
     "output_type": "execute_result"
    }
   ],
   "source": [
    "dotenv.load_dotenv()\n"
   ]
  },
  {
   "cell_type": "code",
   "execution_count": 3,
   "metadata": {},
   "outputs": [],
   "source": [
    "client = Client(os.getenv('WEAVIATE_CLIENT'))\n",
    "\n",
    "Settings.llm = Ollama(base_url=os.getenv('LLM_ENDPOINT'), model=\"mistral:7b-instruct-v0.3-q6_K\")\n",
    "\n",
    "embed_model = SageMakerEmbedding(\n",
    "    endpoint_name=os.getenv('SAGEMAKER_ENDPOINT'),\n",
    "    aws_access_key_id=os.getenv(\"AWS_ACCESS_KEY_ID\"),\n",
    "    aws_secret_access_key=os.getenv(\"AWS_SECRET_ACCESS_KEY\"),\n",
    "    region_name=os.getenv(\"AWS_REGION\")\n",
    ")\n"
   ]
  },
  {
   "cell_type": "code",
   "execution_count": 4,
   "metadata": {},
   "outputs": [],
   "source": [
    "# Initialize LLM and Embedding model\n",
    "llm = Settings.llm\n",
    "Settings.embed_model = embed_model\n",
    "\n",
    "index = None"
   ]
  },
  {
   "cell_type": "code",
   "execution_count": 5,
   "metadata": {},
   "outputs": [],
   "source": [
    "from llama_index.readers.confluence import ConfluenceReader\n",
    "import os \n",
    "os.environ['CONFLUENCE_USERNAME'] = \"\"\n",
    "os.environ['CONFLUENCE_PASSWORD'] = \"\"\n",
    "\n",
    "reader=ConfluenceReader(base_url=\"\")"
   ]
  },
  {
   "cell_type": "code",
   "execution_count": 6,
   "metadata": {},
   "outputs": [],
   "source": [
    "documents=reader.load_data(space_key=\"\")"
   ]
  },
  {
   "cell_type": "code",
   "execution_count": 7,
   "metadata": {},
   "outputs": [
    {
     "data": {
      "text/plain": [
       "[Document(id_='98395', embedding=None, metadata={'title': 'Overview', 'page_id': '98395', 'status': 'current', 'url': 'https://abdelkerim-doc-assistant.atlassian.net/wiki/spaces/~712020a5e8623ecd6e48b6b43e65f918ce73b6/overview'}, excluded_embed_metadata_keys=[], excluded_llm_metadata_keys=[], relationships={}, text='Say hello to your colleagues who want to know your name, pronouns, role, team\\nand location (or if you\\'re remote).\\n\\n## 📄 Recent pages that I\\'ve worked on\\n\\n## Recent updates\\n\\n  * DocMate Operations Manual\\n\\nOct 28, 2024 • contributed by Abdelkerim Dassi\\n\\n  * DocMate Security Documentation\\n\\nOct 28, 2024 • contributed by Abdelkerim Dassi\\n\\n  * DocMate Contracts Manual\\n\\nOct 28, 2024 • contributed by Abdelkerim Dassi\\n\\n  * DocMate Technical Manual\\n\\nOct 28, 2024 • contributed by Abdelkerim Dassi\\n\\n  * AppZ Security Documentation\\n\\nOct 28, 2024 • contributed by Abdelkerim Dassi\\n\\nShow More\\n\\n## Blog stream\\n\\nCreate a blog post to share news and announcements with your team and company.\\n\\nCreate blog post\\n\\n## 🖐 Get in touch\\n\\n✉️\\n\\n💼\\n\\n🔗\\n\\n👤\\n\\nEnd with a bang! Some options are: \"I am so grateful to be here at <Insert\\ncompany name> and very excited to get started!\" or \"Looking forward to meeting\\nall of you!\" or \"Can\\'t wait to get to know all of you!\"\\n\\n', start_char_idx=None, end_char_idx=None, text_template='{metadata_str}\\n\\n{content}', metadata_template='{key}: {value}', metadata_seperator='\\n'),\n",
       " Document(id_='35094535', embedding=None, metadata={'title': 'AppX Technical Manual', 'page_id': '35094535', 'status': 'current', 'url': 'https://abdelkerim-doc-assistant.atlassian.net/wiki/spaces/~712020a5e8623ecd6e48b6b43e65f918ce73b6/pages/35094535/AppX+Technical+Manual'}, excluded_embed_metadata_keys=[], excluded_llm_metadata_keys=[], relationships={}, text='\\n\\n### App Architecture\\n\\n **Overview** AppX is a scalable web application designed to run on AWS\\ninfrastructure, leveraging various AWS services for optimal performance,\\nreliability, and security.\\n\\n **Components:**\\n\\n  1.  **Frontend:**\\n\\n    * Developed with React.js.\\n\\n    * Hosted on AWS S3 with CloudFront for CDN.\\n\\n  2.  **Backend:**\\n\\n    * Developed with Node.js and Express.js.\\n\\n    * Hosted on AWS Elastic Beanstalk.\\n\\n  3.  **Database:**\\n\\n    * Amazon RDS for PostgreSQL.\\n\\n  4.  **Storage:**\\n\\n    * Amazon S3 for static assets and user uploads.\\n\\n  5.  **Authentication:**\\n\\n    * AWS Cognito for user management and authentication.\\n\\n  6.  **CI/CD:**\\n\\n    * GitHub Actions for CI/CD pipelines.\\n\\n **Architecture Diagram:**\\n\\n### User Management & IAM\\n\\n **AWS Cognito Setup:**\\n\\n  1.  **Create a User Pool:**\\n    \\n        aws cognito-idp create-user-pool --pool-name AppXUserPool\\n\\n  2. **Create an App Client:**\\n    \\n        aws cognito-idp create-user-pool-client --user-pool-id <user-pool-id> --client-name AppXClient\\n\\n  3. **Assign IAM Roles to the User Pool:**\\n    \\n        aws cognito-idp create-identity-provider --user-pool-id <user-pool-id> --provider-name MyIdentityProvider --provider-type SAML\\n\\n**IAM Policies:**\\n\\n  1.  **Create an IAM Policy:**\\n    \\n        { \"Version\": \"2012-10-17\", \"Statement\": [ { \"Effect\": \"Allow\", \"Action\": [ \"s3:ListBucket\", \"s3:GetObject\", \"s3:PutObject\" ], \"Resource\": [ \"arn:aws:s3:::appx-bucket/*\" ] } ] }\\n\\n  2. **Attach the IAM Policy to a Role:**\\n    \\n        aws iam attach-role-policy --role-name AppXRole --policy-arnarn:aws:iam::aws:policy/AppXPolicy\\n\\n### Networking on AWS\\n\\n **VPC Configuration:**\\n\\n  1.  **Create a VPC:**\\n    \\n        aws ec2 create-vpc --cidr-block 10.0.0.0/16\\n\\n  2. **Create Subnets:**\\n    \\n        aws ec2 create-subnet --vpc-id <vpc-id> --cidr-block 10.0.1.0/24 --availability-zone us-east-1a\\n\\n  3. **Create an Internet Gateway:**\\n    \\n        aws ec2 create-internet-gateway\\n\\n  4. **Attach Internet Gateway to VPC:**\\n    \\n        aws ec2 attach-internet-gateway --vpc-id <vpc-id> --internet-gateway-id <internet-gateway-id>\\n\\n  5. **Route Table Configuration:**\\n    \\n        aws ec2 create-route-table --vpc-id <vpc-id> aws ec2 create-route --route-table-id <route-table-id> --destination-cidr-block 0.0.0.0/0 --gateway-id <internet-gateway-id>\\n\\n### Connecting to Our Cluster\\n\\n **Setting Up kubectl:**\\n\\n  1.  **Install kubectl:**\\n    \\n        curl -LO \"https://dl.k8s.io/release/$(curl -L -s https://dl.k8s.io/release/stable.txt)/bin/linux/amd64/kubectl\" chmod +x kubectl sudo mv kubectl /usr/local/bin/\\n\\n  2. **Configure kubectl to Connect to the Cluster:**\\n    \\n        aws eks update-kubeconfig --region us-east-1 --name AppXCluster\\n\\n  3. **Verify Connection:**\\n    \\n        kubectl get nodes\\n\\n', start_char_idx=None, end_char_idx=None, text_template='{metadata_str}\\n\\n{content}', metadata_template='{key}: {value}', metadata_seperator='\\n'),\n",
       " Document(id_='35094597', embedding=None, metadata={'title': 'AppZ Technical Manual', 'page_id': '35094597', 'status': 'current', 'url': 'https://abdelkerim-doc-assistant.atlassian.net/wiki/spaces/~712020a5e8623ecd6e48b6b43e65f918ce73b6/pages/35094597/AppZ+Technical+Manual'}, excluded_embed_metadata_keys=[], excluded_llm_metadata_keys=[], relationships={}, text='\\n\\n### App Architecture\\n\\n **Overview** AppZ provides real-time notifications and messaging services,\\nintegrating seamlessly with AppX and AppY to enhance user interaction and\\nengagement. AppZ uses WebSockets and message brokers to ensure efficient and\\nreliable delivery of messages.\\n\\n **Components:**\\n\\n  1.  **Microservices:**\\n\\n    *  **Notification Service:** Manages the sending and scheduling of notifications.\\n\\n    *  **Messaging Service:** Handles real-time messaging between users.\\n\\n  2.  **API Gateway:**\\n\\n    * Amazon API Gateway to manage and route API requests.\\n\\n  3.  **Message Broker:**\\n\\n    * Amazon SNS (Simple Notification Service) for notifications.\\n\\n    * Amazon SQS (Simple Queue Service) for queuing messages.\\n\\n  4.  **Database:**\\n\\n    * Amazon DynamoDB for storing message histories and notification logs.\\n\\n  5.  **Storage:**\\n\\n    * Amazon S3 for storing large message attachments.\\n\\n  6.  **CI/CD:**\\n\\n    * GitHub Actions for continuous integration and deployment.\\n\\n **Architecture Diagram:**\\n\\n### User Management & IAM\\n\\n **AWS Cognito Setup:**\\n\\n  1.  **Create a User Pool:**\\n    \\n        aws cognito-idp create-user-pool --pool-name AppZUserPool\\n\\n  2. **Create an App Client:**\\n    \\n        aws cognito-idp create-user-pool-client --user-pool-id <user-pool-id> --client-name AppZClient\\n\\n  3. **Assign IAM Roles to the User Pool:**\\n    \\n        aws cognito-idp create-identity-provider --user-pool-id <user-pool-id> --provider-name MyIdentityProvider --provider-type SAML\\n\\n**IAM Policies:**\\n\\n  1.  **Create an IAM Policy:**\\n    \\n        { \"Version\": \"2012-10-17\", \"Statement\": [ { \"Effect\": \"Allow\", \"Action\": [ \"sns:Publish\", \"sqs:SendMessage\", \"dynamodb:PutItem\", \"dynamodb:GetItem\", \"dynamodb:UpdateItem\", \"dynamodb:DeleteItem\" ], \"Resource\": [ \"arn:aws:sns:us-east-1:123456789012:AppZTopic\", \"arn:aws:sqs:us-east-1:123456789012:AppZQueue\", \"arn:aws:dynamodb:us-east-1:123456789012:table/AppZTable\" ] } ] }\\n\\n  2. **Attach the IAM Policy to a Role:**\\n    \\n        aws iam attach-role-policy --role-name AppZRole --policy-arn arn:aws:iam::aws:policy/AppZPolicy\\n\\n### Networking on AWS\\n\\n **VPC Configuration:**\\n\\n  1.  **Create a VPC:**\\n    \\n        aws ec2 create-vpc --cidr-block 10.0.0.0/16\\n\\n  2. **Create Subnets:**\\n    \\n        aws ec2 create-subnet --vpc-id <vpc-id> --cidr-block 10.0.1.0/24 --availability-zone us-east-1a\\n\\n  3. **Create an Internet Gateway:**\\n    \\n        aws ec2 create-internet-gateway\\n\\n  4. **Attach Internet Gateway to VPC:**\\n    \\n        aws ec2 attach-internet-gateway --vpc-id <vpc-id> --internet-gateway-id <internet-gateway-id>\\n\\n  5. **Route Table Configuration:**\\n    \\n        aws ec2 create-route-table --vpc-id <vpc-id> aws ec2 create-route --route-table-id <route-table-id> --destination-cidr-block 0.0.0.0/0 --gateway-id <internet-gateway-id>\\n\\n### Connecting to Our Cluster\\n\\n **Setting Up kubectl:**\\n\\n  1.  **Install kubectl:**\\n    \\n        curl -LO \"https://dl.k8s.io/release/$(curl -L -s https://dl.k8s.io/release/stable.txt)/bin/linux/amd64/kubectl\" chmod +x kubectl sudo mv kubectl /usr/local/bin/\\n\\n  2. **Configure kubectl to Connect to the Cluster:**\\n    \\n        aws eks update-kubeconfig --region us-east-1 --name AppZCluster\\n\\n  3. **Verify Connection:**\\n    \\n        kubectl get nodes\\n\\n', start_char_idx=None, end_char_idx=None, text_template='{metadata_str}\\n\\n{content}', metadata_template='{key}: {value}', metadata_seperator='\\n'),\n",
       " Document(id_='35094609', embedding=None, metadata={'title': 'AppZ Contracts Manual', 'page_id': '35094609', 'status': 'current', 'url': 'https://abdelkerim-doc-assistant.atlassian.net/wiki/spaces/~712020a5e8623ecd6e48b6b43e65f918ce73b6/pages/35094609/AppZ+Contracts+Manual'}, excluded_embed_metadata_keys=[], excluded_llm_metadata_keys=[], relationships={}, text='\\n\\n### Interface Contracts\\n\\n **REST API Contracts:**\\n\\n  1.  **Send Notification:**\\n\\n    *  **Endpoint:** `POST /api/v1/notification`\\n\\n    *  **Request Body:**\\n        \\n                { \"userId\": \"string\", \"message\": \"string\", \"timestamp\": \"string\" }\\n\\n    * **Response:**\\n        \\n                { \"status\": \"string\", \"message\": \"string\" }\\n\\n  2. **Send Message:**\\n\\n    *  **Endpoint:** `POST /api/v1/message`\\n\\n    *  **Request Body:**\\n        \\n                { \"fromUserId\": \"string\", \"toUserId\": \"string\", \"message\": \"string\", \"timestamp\": \"string\" }\\n\\n    * **Response:**\\n        \\n                { \"status\": \"string\", \"message\": \"string\" }\\n\\n**GraphQL API Contracts:**\\n\\n  1.  **Query Notification History:**\\n\\n    *  **Query:**\\n        \\n                query { notificationHistory(userId: \"string\") { messageId message timestamp } }\\n\\n    * **Response:**\\n        \\n                { \"data\": { \"notificationHistory\": [ { \"messageId\": \"string\", \"message\": \"string\", \"timestamp\": \"string\" } ] } }\\n\\n  2. **Query Message History:**\\n\\n    *  **Query:**\\n        \\n                query { messageHistory(fromUserId: \"string\", toUserId: \"string\") { messageId message timestamp } }\\n\\n    * **Response:**\\n        \\n                { \"data\": { \"messageHistory\": [ { \"messageId\": \"string\", \"message\": \"string\", \"timestamp\": \"string\" } ] } }\\n\\n', start_char_idx=None, end_char_idx=None, text_template='{metadata_str}\\n\\n{content}', metadata_template='{key}: {value}', metadata_seperator='\\n'),\n",
       " Document(id_='35094620', embedding=None, metadata={'title': 'AppZ Operations Manual', 'page_id': '35094620', 'status': 'current', 'url': 'https://abdelkerim-doc-assistant.atlassian.net/wiki/spaces/~712020a5e8623ecd6e48b6b43e65f918ce73b6/pages/35094620/AppZ+Operations+Manual'}, excluded_embed_metadata_keys=[], excluded_llm_metadata_keys=[], relationships={}, text='\\n\\n### Troubleshooting AWS Services\\n\\n **Common AWS Service Issues:**\\n\\n  1.  **SNS Publishing Failures:**\\n\\n    *  **Check SNS Logs:**\\n        \\n                aws sns get-topic-attributes --topic-arn arn:aws:sns:us-east-1:123456789012:AppZTopic\\n\\n    * **Recreate SNS Topic:**\\n        \\n                aws sns create-topic --name AppZTopic\\n\\n  2. **SQS Queue Issues:**\\n\\n    *  **Check Queue Attributes:**\\n        \\n                aws sqs get-queue-attributes --queue-url <queue-url> --attribute-names All\\n\\n    * **Purge Queue:**\\n        \\n                aws sqs purge-queue --queue-url <queue-url>\\n\\n### Troubleshooting GitHub CI/CD Runners\\n\\n **Common CI/CD Issues:**\\n\\n  1.  **Workflow Failures:**\\n\\n    *  **View Workflow Logs:**\\n        \\n                gh run view <run-id> --log\\n\\n    * **Re-run Failed Jobs:**\\n        \\n                gh run rerun <run-id>\\n\\n  2. **Secrets Management:**\\n\\n    *  **Add a Secret:**\\n        \\n                gh secret set <secret-name> -b\"<secret-value>\"\\n\\n### Requesting New Policies in Your AWS Role\\n\\n **Process to Request New Policies:**\\n\\n  1.  **Submit a Request:**\\n\\n    *  **Fill out the Policy Request Form** with details on the required permissions and the justification for the request.\\n\\n    *  **Submit the form** to the AWS IAM Admin team.\\n\\n  2.  **Policy Approval:**\\n\\n    * The IAM Admin team will review and approve the request.\\n\\n    * Once approved, the policy will be attached to your role.\\n\\n### Using kubectl to Print Cluster Logs\\n\\n **Fetching Logs:**\\n\\n  1.  **Get Pod Logs:**\\n    \\n        kubectl logs <pod-name>\\n\\n  2. **Stream Logs:**\\n    \\n        kubectl logs -f <pod-name>\\n\\n  3. **Filter Logs by Container:**\\n    \\n        kubectl logs <pod-name> -c <container-name>\\n\\n', start_char_idx=None, end_char_idx=None, text_template='{metadata_str}\\n\\n{content}', metadata_template='{key}: {value}', metadata_seperator='\\n'),\n",
       " Document(id_='35127347', embedding=None, metadata={'title': 'AppY Technical Manual', 'page_id': '35127347', 'status': 'current', 'url': 'https://abdelkerim-doc-assistant.atlassian.net/wiki/spaces/~712020a5e8623ecd6e48b6b43e65f918ce73b6/pages/35127347/AppY+Technical+Manual'}, excluded_embed_metadata_keys=[], excluded_llm_metadata_keys=[], relationships={}, text='\\n\\n### App Architecture\\n\\n **Overview** AppY extends the functionality of AppX by adding advanced\\nanalytics and enhanced user management. It is designed as a set of\\nmicroservices, each responsible for a specific part of the application logic.\\nThis architecture allows for independent development, testing, and deployment\\nof each service.\\n\\n **Components:**\\n\\n  1.  **Microservices:**\\n\\n    *  **Analytics Service:** Provides detailed analytics and reporting.\\n\\n    *  **User Management Service:** Extends user management features such as user roles and permissions.\\n\\n    *  **Integration Service:** Manages integrations with third-party services.\\n\\n  2.  **API Gateway:**\\n\\n    * Amazon API Gateway to manage and route API requests.\\n\\n  3.  **Authentication:**\\n\\n    * AWS Cognito for authentication and authorization.\\n\\n  4.  **Database:**\\n\\n    * Amazon DynamoDB for scalable and fast data storage.\\n\\n  5.  **Storage:**\\n\\n    * Amazon S3 for storing logs and large datasets.\\n\\n  6.  **CI/CD:**\\n\\n    * GitHub Actions for continuous integration and deployment.\\n\\n **Architecture Diagram:**\\n\\n### User Management & IAM\\n\\n **AWS Cognito Setup:**\\n\\n  1.  **Create a User Pool:**\\n    \\n        aws cognito-idp create-user-pool --pool-name AppYUserPool\\n\\n  2. **Create an App Client:**\\n    \\n        aws cognito-idp create-user-pool-client --user-pool-id <user-pool-id> --client-name AppYClient\\n\\n  3. **Assign IAM Roles to the User Pool:**\\n    \\n        aws cognito-idp create-identity-provider --user-pool-id <user-pool-id> --provider-name MyIdentityProvider --provider-type SAML\\n\\n**IAM Policies:**\\n\\n  1.  **Create an IAM Policy:**\\n    \\n        { \"Version\": \"2012-10-17\", \"Statement\": [ { \"Effect\": \"Allow\", \"Action\": [ \"dynamodb:PutItem\", \"dynamodb:GetItem\", \"dynamodb:UpdateItem\", \"dynamodb:DeleteItem\" ], \"Resource\": [ \"arn:aws:dynamodb:us-east-1:123456789012:table/AppYTable\" ] } ] }\\n\\n  2. **Attach the IAM Policy to a Role:**\\n    \\n        aws iam attach-role-policy --role-name AppYRole --policy-arn arn:aws:iam::aws:policy/AppYPolicy\\n\\n### Networking on AWS\\n\\n **VPC Configuration:**\\n\\n  1.  **Create a VPC:**\\n    \\n        aws ec2 create-vpc --cidr-block 10.0.0.0/16\\n\\n  2. **Create Subnets:**\\n    \\n        aws ec2 create-subnet --vpc-id <vpc-id> --cidr-block 10.0.1.0/24 --availability-zone us-east-1a\\n\\n  3. **Create an Internet Gateway:**\\n    \\n        aws ec2 create-internet-gateway\\n\\n  4. **Attach Internet Gateway to VPC:**\\n    \\n        aws ec2 attach-internet-gateway --vpc-id <vpc-id> --internet-gateway-id <internet-gateway-id>\\n\\n  5. **Route Table Configuration:**\\n    \\n        aws ec2 create-route-table --vpc-id <vpc-id> aws ec2 create-route --route-table-id <route-table-id> --destination-cidr-block 0.0.0.0/0 --gateway-id <internet-gateway-id>\\n\\n### Connecting to Our Cluster\\n\\n **Setting Up kubectl:**\\n\\n  1.  **Install kubectl:**\\n    \\n        curl -LO \"https://dl.k8s.io/release/$(curl -L -s https://dl.k8s.io/release/stable.txt)/bin/linux/amd64/kubectl\" chmod +x kubectl sudo mv kubectl /usr/local/bin/\\n\\n  2. **Configure kubectl to Connect to the Cluster:**\\n    \\n        aws eks update-kubeconfig --region us-east-1 --name AppYCluster\\n\\n  3. **Verify Connection:**\\n    \\n        kubectl get nodes\\n\\n', start_char_idx=None, end_char_idx=None, text_template='{metadata_str}\\n\\n{content}', metadata_template='{key}: {value}', metadata_seperator='\\n'),\n",
       " Document(id_='35127363', embedding=None, metadata={'title': 'AppY Operations Manual', 'page_id': '35127363', 'status': 'current', 'url': 'https://abdelkerim-doc-assistant.atlassian.net/wiki/spaces/~712020a5e8623ecd6e48b6b43e65f918ce73b6/pages/35127363/AppY+Operations+Manual'}, excluded_embed_metadata_keys=[], excluded_llm_metadata_keys=[], relationships={}, text='\\n\\n### Troubleshooting AWS Services\\n\\n **Common AWS Service Issues:**\\n\\n  1.  **API Gateway Deployment Failures:**\\n\\n    *  **Check Logs:**\\n        \\n                aws apigateway get-deployment --rest-api-id <rest-api-id> --deployment-id <deployment-id>\\n\\n    * **Redeploy API:**\\n        \\n                aws apigateway create-deployment --rest-api-id <rest-api-id> --stage-name <stage-name>\\n\\n  2. **DynamoDB Table Issues:**\\n\\n    *  **Check Table Status:**\\n        \\n                aws dynamodb describe-table --table-name AppYTable\\n\\n    * **Update Table Provisioned Capacity:**\\n        \\n                aws dynamodb update-table --table-name AppYTable --provisioned-throughput ReadCapacityUnits=10,WriteCapacityUnits=5\\n\\n### Troubleshooting GitHub CI/CD Runners\\n\\n **Common CI/CD Issues:**\\n\\n  1.  **Workflow Failures:**\\n\\n    *  **View Workflow Logs:**\\n        \\n                gh run view <run-id> --log\\n\\n    * **Re-run Failed Jobs:**\\n        \\n                gh run rerun <run-id>\\n\\n  2. **Secrets Management:**\\n\\n    *  **Add a Secret:**\\n        \\n                gh secret set <secret-name> -b\"<secret-value>\"\\n\\n### Requesting New Policies in Your AWS Role\\n\\n **Process to Request New Policies:**\\n\\n  1.  **Submit a Request:**\\n\\n    *  **Fill out the Policy Request Form** with details on the required permissions and the justification for the request.\\n\\n    *  **Submit the form** to the AWS IAM Admin team.\\n\\n  2.  **Policy Approval:**\\n\\n    * The IAM Admin team will review and approve the request.\\n\\n    * Once approved, the policy will be attached to your role.\\n\\n### Using kubectl to Print Cluster Logs\\n\\n **Fetching Logs:**\\n\\n  1.  **Get Pod Logs:**\\n    \\n        kubectl logs <pod-name>\\n\\n  2. **Stream Logs:**\\n    \\n        kubectl logs -f <pod-name>\\n\\n  3. **Filter Logs by Container:**\\n    \\n        kubectl logs <pod-name> -c <container-name>\\n\\n', start_char_idx=None, end_char_idx=None, text_template='{metadata_str}\\n\\n{content}', metadata_template='{key}: {value}', metadata_seperator='\\n'),\n",
       " Document(id_='35127382', embedding=None, metadata={'title': 'AppZ Security Documentation', 'page_id': '35127382', 'status': 'current', 'url': 'https://abdelkerim-doc-assistant.atlassian.net/wiki/spaces/~712020a5e8623ecd6e48b6b43e65f918ce73b6/pages/35127382/AppZ+Security+Documentation'}, excluded_embed_metadata_keys=[], excluded_llm_metadata_keys=[], relationships={}, text='\\n\\n### PenTest Results\\n\\n **Overview:**\\n\\nAppZ undergoes regular penetration testing to identify and mitigate security\\nvulnerabilities. The results of the latest PenTest are summarized below.\\n\\n **Summary of Findings:**\\n\\n  1.  **Critical Vulnerabilities:**\\n\\n    *  **Insecure WebSocket Connections:**\\n\\n      *  **Description:** Vulnerability in WebSocket connections leading to potential data interception.\\n\\n      *  **Resolution:** Implemented SSL/TLS encryption for all WebSocket connections.\\n\\n  2.  **High Vulnerabilities:**\\n\\n    *  **Unauthorized Message Access:**\\n\\n      *  **Description:** Potential for unauthorized access to message queues.\\n\\n      *  **Resolution:** Enhanced access controls and authentication mechanisms.\\n\\n  3.  **Medium Vulnerabilities:**\\n\\n    *  **Sensitive Data Exposure:**\\n\\n      *  **Description:** Sensitive data logged in plain text.\\n\\n      *  **Resolution:** Implemented encryption for sensitive data logs.\\n\\n **Recommendations:**\\n\\n  * Implement regular security training for developers.\\n\\n  * Conduct quarterly penetration tests.\\n\\n  * Enhance logging and monitoring for suspicious activities.\\n\\n', start_char_idx=None, end_char_idx=None, text_template='{metadata_str}\\n\\n{content}', metadata_template='{key}: {value}', metadata_seperator='\\n'),\n",
       " Document(id_='35192848', embedding=None, metadata={'title': 'AppX Operations Manual', 'page_id': '35192848', 'status': 'current', 'url': 'https://abdelkerim-doc-assistant.atlassian.net/wiki/spaces/~712020a5e8623ecd6e48b6b43e65f918ce73b6/pages/35192848/AppX+Operations+Manual'}, excluded_embed_metadata_keys=[], excluded_llm_metadata_keys=[], relationships={}, text='\\n\\n### Troubleshooting AWS Services\\n\\n **Common AWS Service Issues:**\\n\\n  1.  **Elastic Beanstalk Deployment Failures:**\\n\\n    *  **Check Logs:**\\n        \\n                eb logs\\n\\n    * **Redeploy Application:**\\n        \\n                eb deploy\\n\\n  2. **RDS Connection Issues:**\\n\\n    *  **Check Security Groups:**\\n        \\n                aws ec2 describe-security-groups --group-ids <sg-id>\\n\\n    * **Modify Security Group Rules:**\\n        \\n                aws ec2 authorize-security-group-ingress --group-id <sg-id> --protocol tcp --port 5432 --cidr <your-ip>/32\\n\\n### Troubleshooting GitHub CI/CD Runners\\n\\n **Common CI/CD Issues:**\\n\\n  1.  **Workflow Failures:**\\n\\n    *  **View Workflow Logs:**\\n        \\n                gh run view <run-id> --log\\n\\n    * **Re-run Failed Jobs:**\\n        \\n                gh run rerun <run-id>\\n\\n  2. **Secrets Management:**\\n\\n    *  **Add a Secret:**\\n        \\n                gh secret set <secret-name> -b\"<secret-value>\"\\n\\n### Requesting New Policies in Your AWS Role\\n\\n **Process to Request New Policies:**\\n\\n  1.  **Submit a Request:**\\n\\n    *  **Fill out the Policy Request Form** with details on the required permissions and the justification for the request.\\n\\n    *  **Submit the form** to the AWS IAM Admin team.\\n\\n  2.  **Policy Approval:**\\n\\n    * The IAM Admin team will review and approve the request.\\n\\n    * Once approved, the policy will be attached to your role.\\n\\n### Using kubectl to Print Cluster Logs\\n\\n **Fetching Logs:**\\n\\n  1.  **Get Pod Logs:**\\n    \\n        kubectl logs <pod-name>\\n\\n  2. **Stream Logs:**\\n    \\n        kubectl logs -f <pod-name>\\n\\n  3. **Filter Logs by Container:**\\n    \\n        kubectl logs <pod-name> -c <container-name>\\n\\n', start_char_idx=None, end_char_idx=None, text_template='{metadata_str}\\n\\n{content}', metadata_template='{key}: {value}', metadata_seperator='\\n'),\n",
       " Document(id_='35192883', embedding=None, metadata={'title': 'AppY Contracts Manual', 'page_id': '35192883', 'status': 'current', 'url': 'https://abdelkerim-doc-assistant.atlassian.net/wiki/spaces/~712020a5e8623ecd6e48b6b43e65f918ce73b6/pages/35192883/AppY+Contracts+Manual'}, excluded_embed_metadata_keys=[], excluded_llm_metadata_keys=[], relationships={}, text='\\n\\n### Interface Contracts\\n\\n **REST API Contracts:**\\n\\n  1.  **Analytics Data:**\\n\\n    *  **Endpoint:** `POST /api/v1/analytics`\\n\\n    *  **Request Body:**\\n        \\n                { \"userId\": \"string\", \"action\": \"string\", \"timestamp\": \"string\" }\\n\\n    * **Response:**\\n        \\n                { \"status\": \"string\", \"message\": \"string\" }\\n\\n  2. **User Role Assignment:**\\n\\n    *  **Endpoint:** `POST /api/v1/user/role`\\n\\n    *  **Request Body:**\\n        \\n                { \"userId\": \"string\", \"role\": \"string\" }\\n\\n    * **Response:**\\n        \\n                { \"status\": \"string\", \"message\": \"string\" }\\n\\n**GraphQL API Contracts:**\\n\\n  1.  **Query User Analytics:**\\n\\n    *  **Query:**\\n        \\n                query { userAnalytics(userId: \"string\") { userId action timestamp } }\\n\\n    * **Response:**\\n        \\n                { \"data\": { \"userAnalytics\": [ { \"userId\": \"string\", \"action\": \"string\", \"timestamp\": \"string\" } ] } }\\n\\n', start_char_idx=None, end_char_idx=None, text_template='{metadata_str}\\n\\n{content}', metadata_template='{key}: {value}', metadata_seperator='\\n'),\n",
       " Document(id_='35192896', embedding=None, metadata={'title': 'AppY Security Documentation', 'page_id': '35192896', 'status': 'current', 'url': 'https://abdelkerim-doc-assistant.atlassian.net/wiki/spaces/~712020a5e8623ecd6e48b6b43e65f918ce73b6/pages/35192896/AppY+Security+Documentation'}, excluded_embed_metadata_keys=[], excluded_llm_metadata_keys=[], relationships={}, text='\\n\\n### PenTest Results\\n\\n **Overview:**\\n\\nAppY undergoes regular penetration testing to identify and mitigate security\\nvulnerabilities. The results of the latest PenTest are summarized below.\\n\\n **Summary of Findings:**\\n\\n  1.  **Critical Vulnerabilities:**\\n\\n    *  **Insecure API Endpoints:**\\n\\n      *  **Description:** Vulnerability in the analytics data endpoint.\\n\\n      *  **Resolution:** Implemented input validation and rate limiting.\\n\\n  2.  **High Vulnerabilities:**\\n\\n    *  **Unauthorized Access:**\\n\\n      *  **Description:** Potential for unauthorized access to user role management.\\n\\n      *  **Resolution:** Enhanced authentication and authorization mechanisms.\\n\\n  3.  **Medium Vulnerabilities:**\\n\\n    *  **Sensitive Data Exposure:**\\n\\n      *  **Description:** Sensitive data logged in plain text.\\n\\n      *  **Resolution:** Implemented encryption for sensitive data logs.\\n\\n **Recommendations:**\\n\\n  * Implement regular security training for developers.\\n\\n  * Conduct quarterly penetration tests.\\n\\n  * Enhance logging and monitoring for suspicious activities.\\n\\n', start_char_idx=None, end_char_idx=None, text_template='{metadata_str}\\n\\n{content}', metadata_template='{key}: {value}', metadata_seperator='\\n'),\n",
       " Document(id_='35225601', embedding=None, metadata={'title': 'AppX Contracts Manual', 'page_id': '35225601', 'status': 'current', 'url': 'https://abdelkerim-doc-assistant.atlassian.net/wiki/spaces/~712020a5e8623ecd6e48b6b43e65f918ce73b6/pages/35225601/AppX+Contracts+Manual'}, excluded_embed_metadata_keys=[], excluded_llm_metadata_keys=[], relationships={}, text='\\n\\n### Interface Contracts\\n\\n **REST API Contracts:**\\n\\n  1.  **Send Notification:**\\n\\n    *  **Endpoint:** `POST /api/v1/notification`\\n\\n    *  **Request Body:**\\n        \\n                { \"userId\": \"string\", \"message\": \"string\", \"timestamp\": \"string\" }\\n\\n    * **Response:**\\n        \\n                { \"status\": \"string\", \"message\": \"string\" }\\n\\n  2. **Send Message:**\\n\\n    *  **Endpoint:** `POST /api/v1/message`\\n\\n    *  **Request Body:**\\n        \\n                { \"fromUserId\": \"string\", \"toUserId\": \"string\", \"message\": \"string\", \"timestamp\": \"string\" }\\n\\n    * **Response:**\\n        \\n                { \"status\": \"string\", \"message\": \"string\" }\\n\\n**GraphQL API Contracts:**\\n\\n  1.  **Query Notification History:**\\n\\n    *  **Query:**\\n        \\n                query { notificationHistory(userId: \"string\") { messageId message timestamp } }\\n\\n    * **Response:**\\n        \\n                { \"data\": { \"notificationHistory\": [ { \"messageId\": \"string\", \"message\": \"string\", \"timestamp\": \"string\" } ] } }\\n\\n  2. **Query Message History:**\\n\\n    *  **Query:**\\n        \\n                query { messageHistory(fromUserId: \"string\", toUserId: \"string\") { messageId message timestamp } }\\n\\n    * **Response:**\\n        \\n                { \"data\": { \"messageHistory\": [ { \"messageId\": \"string\", \"message\": \"string\", \"timestamp\": \"string\" } ] } }\\n\\n', start_char_idx=None, end_char_idx=None, text_template='{metadata_str}\\n\\n{content}', metadata_template='{key}: {value}', metadata_seperator='\\n'),\n",
       " Document(id_='35225646', embedding=None, metadata={'title': 'AppX Security Documentation', 'page_id': '35225646', 'status': 'current', 'url': 'https://abdelkerim-doc-assistant.atlassian.net/wiki/spaces/~712020a5e8623ecd6e48b6b43e65f918ce73b6/pages/35225646/AppX+Security+Documentation'}, excluded_embed_metadata_keys=[], excluded_llm_metadata_keys=[], relationships={}, text='\\n\\n### PenTest Results\\n\\n **Overview:**\\n\\nOur application undergoes regular penetration testing to identify and mitigate\\nsecurity vulnerabilities. The results of the latest PenTest are summarized\\nbelow.\\n\\n **Summary of Findings:**\\n\\n  1.  **Critical Vulnerabilities:**\\n\\n    *  **SQL Injection:**\\n\\n      *  **Description:** Vulnerability in the user login endpoint.\\n\\n      *  **Resolution:** Input sanitization and parameterized queries implemented.\\n\\n  2.  **High Vulnerabilities:**\\n\\n    *  **Cross-Site Scripting (XSS):**\\n\\n      *  **Description:** XSS vulnerability in the user profile page.\\n\\n      *  **Resolution:** Implemented input validation and output encoding.\\n\\n  3.  **Medium Vulnerabilities:**\\n\\n    *  **Insecure Storage of Sensitive Data:**\\n\\n      *  **Description:** Sensitive data stored in localStorage.\\n\\n      *  **Resolution:** Moved sensitive data to secure cookies.\\n\\n **Recommendations:**\\n\\n  * Implement regular security training for developers.\\n\\n  * Conduct bi-annual penetration tests.\\n\\n  * Enhance logging and monitoring for suspicious activities.\\n\\n', start_char_idx=None, end_char_idx=None, text_template='{metadata_str}\\n\\n{content}', metadata_template='{key}: {value}', metadata_seperator='\\n'),\n",
       " Document(id_='35389443', embedding=None, metadata={'title': 'DocMate Contracts Manual', 'page_id': '35389443', 'status': 'current', 'url': 'https://abdelkerim-doc-assistant.atlassian.net/wiki/spaces/~712020a5e8623ecd6e48b6b43e65f918ce73b6/pages/35389443/DocMate+Contracts+Manual'}, excluded_embed_metadata_keys=[], excluded_llm_metadata_keys=[], relationships={}, text='\\n\\n### Interface Contracts\\n\\n **API Contracts:**\\n\\n  1.  **Search Documentation:**\\n\\n    *  **Endpoint:** `POST /api/v1/search`\\n\\n    *  **Request:**\\n        \\n                { \"query\": \"What is the technology stack for Project X?\", \"userId\": \"123\" }\\n\\n    * **Response:**\\n        \\n                { \"results\": [ { \"documentId\": \"001\", \"title\": \"Project X - Tech Stack\", \"link\": \"https://confluence.com/projectx/techstack\" } ] }\\n\\n  2. **Chatbot Query:**\\n\\n    *  **Endpoint:** `POST /api/v1/chatbot`\\n\\n    *  **Request:**\\n        \\n                { \"message\": \"How do I deploy the frontend?\", \"userId\": \"123\" }\\n\\n    * **Response:**\\n        \\n                { \"response\": \"To deploy the frontend, you can follow the steps mentioned in this document: https://confluence.com/frontend-deployment.\" }\\n\\n', start_char_idx=None, end_char_idx=None, text_template='{metadata_str}\\n\\n{content}', metadata_template='{key}: {value}', metadata_seperator='\\n'),\n",
       " Document(id_='35389456', embedding=None, metadata={'title': 'DocMate Operations Manual', 'page_id': '35389456', 'status': 'current', 'url': 'https://abdelkerim-doc-assistant.atlassian.net/wiki/spaces/~712020a5e8623ecd6e48b6b43e65f918ce73b6/pages/35389456/DocMate+Operations+Manual'}, excluded_embed_metadata_keys=[], excluded_llm_metadata_keys=[], relationships={}, text='\\n\\n### Troubleshooting AWS Services\\n\\n **Common AWS Service Issues:**\\n\\n  1.  **SNS/SQS Message Failures:**\\n\\n    *  **Check SNS Status:**\\n        \\n                aws sns get-topic-attributes --topic-arn arn:aws:sns:us-east-1:123456789012:DocMateTopic\\n\\n    * **Check SQS Queue:**\\n        \\n                aws sqs get-queue-attributes --queue-url <queue-url> --attribute-names All\\n\\n  2. **DynamoDB Issues:**\\n\\n    *  **Check DynamoDB Table:**\\n        \\n                aws dynamodb describe-table --table-name DocMateTable\\n\\n### Troubleshooting GitHub CI/CD Runners\\n\\n  1.  **View Workflow Logs:**\\n    \\n        gh run view <run-id> --log\\n\\n  2. **Re-run Failed Jobs:**\\n    \\n        gh run rerun <run-id>\\n\\n  3. **Add a GitHub Secret:**\\n    \\n        gh secret set DOCMATE_KEY -b\"<secret-value>\"\\n\\n### Requesting New Policies in Your AWS Role\\n\\n  1.  **Request Process:**\\n\\n    * Submit a request via the internal IAM management form specifying the new policy needs (e.g., Confluence access).\\n\\n    * The policy request will be reviewed by the security team for approval.\\n\\n### Using kubectl to Print Cluster Logs\\n\\n  1.  **Get Pod Logs:**\\n    \\n        kubectl logs <pod-name>\\n\\n  2. **Stream Logs:**\\n    \\n        kubectl logs -f <pod-name>\\n\\n', start_char_idx=None, end_char_idx=None, text_template='{metadata_str}\\n\\n{content}', metadata_template='{key}: {value}', metadata_seperator='\\n'),\n",
       " Document(id_='35422210', embedding=None, metadata={'title': 'DocMate Technical Manual', 'page_id': '35422210', 'status': 'current', 'url': 'https://abdelkerim-doc-assistant.atlassian.net/wiki/spaces/~712020a5e8623ecd6e48b6b43e65f918ce73b6/pages/35422210/DocMate+Technical+Manual'}, excluded_embed_metadata_keys=[], excluded_llm_metadata_keys=[], relationships={}, text='\\n\\n### App Architecture\\n\\n **Overview:** DocMate is built on an AI-driven microservices architecture,\\ndesigned to provide real-time access to project documentation. It integrates\\nwith Confluence and JIRA using APIs to fetch and display relevant information.\\nThe core AI component uses RAG pipelines to retrieve context-relevant\\ndocuments, augmenting it with LLM responses to create a seamless interactive\\nexperience for users.\\n\\n **Core Components:**\\n\\n  1.  **Frontend UI:**\\n\\n    * Built with **React** for a responsive and user-friendly interface.\\n\\n    * The interface consists of an intuitive search bar, chatbot window, and document retrieval section.\\n\\n  2.  **Backend Services:**\\n\\n    *  **Microservice 1: Documentation Retrieval Service**  \\nConnects with Confluence and JIRA APIs to retrieve documents based on user\\nqueries.\\n\\n    *  **Microservice 2: AI Assistant Service**  \\nUses state-of-the-art LLMs and the RAG pipeline to respond to queries in\\nnatural language.\\n\\n  3.  **Databases & Storage:**\\n\\n    *  **DynamoDB:** Stores user preferences, query history, and frequently retrieved documents for optimization.\\n\\n    *  **S3:** Stores large project files and backup documentation.\\n\\n  4.  **Message Broker:**\\n\\n    *  **SNS/SQS:** Used for triggering asynchronous document retrieval events and chat responses.\\n\\n  5.  **CI/CD Pipeline:**\\n\\n    *  **GitHub Actions** to automate testing, deployment, and monitoring.\\n\\n  6.  **Integration with Confluence and JIRA:**\\n\\n    * Connects via REST APIs to retrieve project documentation and tickets.\\n\\n### User Management & IAM\\n\\n **Identity Management:** DocMate uses AWS Cognito for managing user\\nidentities, authentication, and role-based access control.\\n\\n  1.  **Create a User Pool:**\\n    \\n        aws cognito-idp create-user-pool --pool-name DocMateUserPool\\n\\n  2. **Create an App Client for Authentication:**\\n    \\n        aws cognito-idp create-user-pool-client --user-pool-id <user-pool-id> --client-name DocMateAppClient\\n\\n  3. **IAM Role Setup for DocMate Components:** IAM roles are assigned based on the permissions required for accessing Confluence and JIRA APIs. Roles are also configured for S3 and DynamoDB.\\n\\n  4.  **Example IAM Policy for DocMate Services:**\\n    \\n        { \"Version\": \"2012-10-17\", \"Statement\": [ { \"Effect\": \"Allow\", \"Action\": [ \"dynamodb:GetItem\", \"dynamodb:PutItem\", \"s3:GetObject\", \"s3:PutObject\", \"confluence:GetDocument\", \"jira:GetIssues\" ], \"Resource\": \"*\" } ] }\\n\\n### Networking on AWS\\n\\n **VPC Setup:** DocMate operates within an isolated VPC on AWS for security\\nand scalability.\\n\\n  1.  **Create a VPC:**\\n    \\n        aws ec2 create-vpc --cidr-block 10.0.0.0/16\\n\\n  2. **Create Subnets:**\\n    \\n        aws ec2 create-subnet --vpc-id <vpc-id> --cidr-block 10.0.1.0/24 --availability-zone us-east-1a\\n\\n  3. **Internet Gateway:**\\n    \\n        aws ec2 create-internet-gateway aws ec2 attach-internet-gateway --vpc-id <vpc-id> --internet-gateway-id <gateway-id>\\n\\n### Connecting to Our Cluster\\n\\n **Kubernetes Setup:** DocMate is deployed on an AWS EKS cluster to manage\\ncontainerized microservices.\\n\\n  1.  **kubectl Configuration:**\\n    \\n        aws eks update-kubeconfig --region us-east-1 --name DocMateCluster\\n\\n  2. **Verifying Connection:**\\n    \\n        kubectl get nodes\\n\\n', start_char_idx=None, end_char_idx=None, text_template='{metadata_str}\\n\\n{content}', metadata_template='{key}: {value}', metadata_seperator='\\n'),\n",
       " Document(id_='35422223', embedding=None, metadata={'title': 'DocMate Security Documentation', 'page_id': '35422223', 'status': 'current', 'url': 'https://abdelkerim-doc-assistant.atlassian.net/wiki/spaces/~712020a5e8623ecd6e48b6b43e65f918ce73b6/pages/35422223/DocMate+Security+Documentation'}, excluded_embed_metadata_keys=[], excluded_llm_metadata_keys=[], relationships={}, text='\\n\\n### PenTest Results\\n\\n **Overview:** The latest penetration test on DocMate identified potential\\nvulnerabilities, which have been addressed. Below is a summary of findings.\\n\\n **Summary of Findings:**\\n\\n  1.  **Critical Vulnerabilities:**\\n\\n    *  **Unrestricted API Access:**\\n\\n      *  **Description:** Some API endpoints were publicly accessible.\\n\\n      *  **Resolution:** Implemented OAuth2 authentication and access control.\\n\\n  2.  **High Vulnerabilities:**\\n\\n    *  **Improper Permissions on S3 Buckets:**\\n\\n      *  **Description:** S3 bucket permissions allowed open access to certain documents.\\n\\n      *  **Resolution:** Updated bucket policies to ensure restricted access.\\n\\n  3.  **Medium Vulnerabilities:**\\n\\n    *  **Sensitive Data Logging:**\\n\\n      *  **Description:** Sensitive user queries were being logged in plain text.\\n\\n      *  **Resolution:** Implemented logging sanitization and encryption.\\n\\n **Recommendations:**\\n\\n  * Perform regular security scans and updates.\\n\\n  * Conduct quarterly penetration testing.\\n\\n  * Regularly audit access controls and policies.\\n\\n', start_char_idx=None, end_char_idx=None, text_template='{metadata_str}\\n\\n{content}', metadata_template='{key}: {value}', metadata_seperator='\\n')]"
      ]
     },
     "execution_count": 7,
     "metadata": {},
     "output_type": "execute_result"
    }
   ],
   "source": [
    "documents"
   ]
  },
  {
   "cell_type": "code",
   "execution_count": 8,
   "metadata": {},
   "outputs": [
    {
     "name": "stderr",
     "output_type": "stream",
     "text": [
      "c:\\Users\\abdel\\Desktop\\Chatbot\\2024_abdelakrim_dassi\\chatbot_venv\\lib\\site-packages\\pydantic\\_internal\\_generate_schema.py:658: PydanticDeprecatedSince20: `__get_validators__` is deprecated and will be removed, use `__get_pydantic_core_schema__` instead. Deprecated in Pydantic V2.0 to be removed in V3.0. See Pydantic V2 Migration Guide at https://errors.pydantic.dev/2.7/migration/\n",
      "  warn(\n"
     ]
    }
   ],
   "source": [
    "class InputData(BaseModel):\n",
    "    data: list[Document]"
   ]
  },
  {
   "cell_type": "code",
   "execution_count": 9,
   "metadata": {},
   "outputs": [
    {
     "name": "stdout",
     "output_type": "stream",
     "text": [
      "Data indexed successfully\n"
     ]
    }
   ],
   "source": [
    "try:\n",
    "        reader = ConfluenceReader(base_url=\"https://abdelkerim-doc-assistant.atlassian.net/wiki\")\n",
    "        #documents=reader.load_data(page_ids=[\"36110352\"])        \n",
    "        # Process and index documents\n",
    "        process_documents(documents)\n",
    "        print( \"Data indexed successfully\")\n",
    "except Exception as e:\n",
    "        print(\"ERROR:\",str(e))"
   ]
  },
  {
   "cell_type": "code",
   "execution_count": 10,
   "metadata": {},
   "outputs": [],
   "source": [
    "vector_store = WeaviateVectorStore(\n",
    "       weaviate_client=client, index_name=os.getenv(\"index_name\")\n",
    "       )\n",
    "index = VectorStoreIndex.from_vector_store(vector_store=vector_store)"
   ]
  },
  {
   "cell_type": "code",
   "execution_count": 11,
   "metadata": {},
   "outputs": [],
   "source": [
    "retriever=index.as_retriever(similarity_top_k=3)"
   ]
  },
  {
   "cell_type": "code",
   "execution_count": 12,
   "metadata": {},
   "outputs": [
    {
     "name": "stdout",
     "output_type": "stream",
     "text": [
      "{'title': 'DocMate Technical Manual', 'page_id': '35422210', 'status': 'current', 'url': 'https://abdelkerim-doc-assistant.atlassian.net/wiki/spaces/~712020a5e8623ecd6e48b6b43e65f918ce73b6/pages/35422210/DocMate+Technical+Manual'}\n",
      "{'title': 'DocMate Operations Manual', 'page_id': '35389456', 'status': 'current', 'url': 'https://abdelkerim-doc-assistant.atlassian.net/wiki/spaces/~712020a5e8623ecd6e48b6b43e65f918ce73b6/pages/35389456/DocMate+Operations+Manual'}\n",
      "{'title': 'DocMate Security Documentation', 'page_id': '35422223', 'status': 'current', 'url': 'https://abdelkerim-doc-assistant.atlassian.net/wiki/spaces/~712020a5e8623ecd6e48b6b43e65f918ce73b6/pages/35422223/DocMate+Security+Documentation'}\n"
     ]
    }
   ],
   "source": [
    "nodes =retriever.retrieve(\"What is DocMate ?\")\n",
    "for node in nodes:\n",
    "    print(node.metadata)"
   ]
  }
 ],
 "metadata": {
  "kernelspec": {
   "display_name": "chatbot_venv",
   "language": "python",
   "name": "python3"
  },
  "language_info": {
   "codemirror_mode": {
    "name": "ipython",
    "version": 3
   },
   "file_extension": ".py",
   "mimetype": "text/x-python",
   "name": "python",
   "nbconvert_exporter": "python",
   "pygments_lexer": "ipython3",
   "version": "3.10.0"
  }
 },
 "nbformat": 4,
 "nbformat_minor": 2
}
